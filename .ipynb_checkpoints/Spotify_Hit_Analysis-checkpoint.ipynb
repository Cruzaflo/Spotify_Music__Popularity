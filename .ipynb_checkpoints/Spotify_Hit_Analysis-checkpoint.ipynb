{
 "cells": [
  {
   "cell_type": "code",
   "execution_count": 1,
   "metadata": {},
   "outputs": [],
   "source": [
    "import matplotlib.pyplot as plt\n",
    "import numpy as np\n",
    "import pandas as pd\n",
    "import matplotlib.ticker as mtick\n",
    "from stats import median"
   ]
  },
  {
   "cell_type": "code",
   "execution_count": 2,
   "metadata": {
    "scrolled": true
   },
   "outputs": [
    {
     "data": {
      "text/html": [
       "<div>\n",
       "<style scoped>\n",
       "    .dataframe tbody tr th:only-of-type {\n",
       "        vertical-align: middle;\n",
       "    }\n",
       "\n",
       "    .dataframe tbody tr th {\n",
       "        vertical-align: top;\n",
       "    }\n",
       "\n",
       "    .dataframe thead th {\n",
       "        text-align: right;\n",
       "    }\n",
       "</style>\n",
       "<table border=\"1\" class=\"dataframe\">\n",
       "  <thead>\n",
       "    <tr style=\"text-align: right;\">\n",
       "      <th></th>\n",
       "      <th>track</th>\n",
       "      <th>artist</th>\n",
       "      <th>danceability</th>\n",
       "      <th>energy</th>\n",
       "      <th>key</th>\n",
       "      <th>loudness</th>\n",
       "      <th>mode</th>\n",
       "      <th>speechiness</th>\n",
       "      <th>acousticness</th>\n",
       "      <th>instrumentalness</th>\n",
       "      <th>liveness</th>\n",
       "      <th>valence</th>\n",
       "      <th>tempo</th>\n",
       "      <th>duration_ms</th>\n",
       "      <th>time_signature</th>\n",
       "      <th>chorus_hit</th>\n",
       "      <th>sections</th>\n",
       "      <th>target</th>\n",
       "    </tr>\n",
       "  </thead>\n",
       "  <tbody>\n",
       "    <tr>\n",
       "      <th>0</th>\n",
       "      <td>Wild Things</td>\n",
       "      <td>Alessia Cara</td>\n",
       "      <td>0.741</td>\n",
       "      <td>0.626</td>\n",
       "      <td>1</td>\n",
       "      <td>-4.826</td>\n",
       "      <td>0</td>\n",
       "      <td>0.0886</td>\n",
       "      <td>0.02000</td>\n",
       "      <td>0.000</td>\n",
       "      <td>0.0828</td>\n",
       "      <td>0.706</td>\n",
       "      <td>108.029</td>\n",
       "      <td>188493</td>\n",
       "      <td>4</td>\n",
       "      <td>41.18681</td>\n",
       "      <td>10</td>\n",
       "      <td>1</td>\n",
       "    </tr>\n",
       "    <tr>\n",
       "      <th>1</th>\n",
       "      <td>Surfboard</td>\n",
       "      <td>Esquivel!</td>\n",
       "      <td>0.447</td>\n",
       "      <td>0.247</td>\n",
       "      <td>5</td>\n",
       "      <td>-14.661</td>\n",
       "      <td>0</td>\n",
       "      <td>0.0346</td>\n",
       "      <td>0.87100</td>\n",
       "      <td>0.814</td>\n",
       "      <td>0.0946</td>\n",
       "      <td>0.250</td>\n",
       "      <td>155.489</td>\n",
       "      <td>176880</td>\n",
       "      <td>3</td>\n",
       "      <td>33.18083</td>\n",
       "      <td>9</td>\n",
       "      <td>0</td>\n",
       "    </tr>\n",
       "    <tr>\n",
       "      <th>2</th>\n",
       "      <td>Love Someone</td>\n",
       "      <td>Lukas Graham</td>\n",
       "      <td>0.550</td>\n",
       "      <td>0.415</td>\n",
       "      <td>9</td>\n",
       "      <td>-6.557</td>\n",
       "      <td>0</td>\n",
       "      <td>0.0520</td>\n",
       "      <td>0.16100</td>\n",
       "      <td>0.000</td>\n",
       "      <td>0.1080</td>\n",
       "      <td>0.274</td>\n",
       "      <td>172.065</td>\n",
       "      <td>205463</td>\n",
       "      <td>4</td>\n",
       "      <td>44.89147</td>\n",
       "      <td>9</td>\n",
       "      <td>1</td>\n",
       "    </tr>\n",
       "    <tr>\n",
       "      <th>3</th>\n",
       "      <td>Music To My Ears (feat. Tory Lanez)</td>\n",
       "      <td>Keys N Krates</td>\n",
       "      <td>0.502</td>\n",
       "      <td>0.648</td>\n",
       "      <td>0</td>\n",
       "      <td>-5.698</td>\n",
       "      <td>0</td>\n",
       "      <td>0.0527</td>\n",
       "      <td>0.00513</td>\n",
       "      <td>0.000</td>\n",
       "      <td>0.2040</td>\n",
       "      <td>0.291</td>\n",
       "      <td>91.837</td>\n",
       "      <td>193043</td>\n",
       "      <td>4</td>\n",
       "      <td>29.52521</td>\n",
       "      <td>7</td>\n",
       "      <td>0</td>\n",
       "    </tr>\n",
       "    <tr>\n",
       "      <th>4</th>\n",
       "      <td>Juju On That Beat (TZ Anthem)</td>\n",
       "      <td>Zay Hilfigerrr &amp; Zayion McCall</td>\n",
       "      <td>0.807</td>\n",
       "      <td>0.887</td>\n",
       "      <td>1</td>\n",
       "      <td>-3.892</td>\n",
       "      <td>1</td>\n",
       "      <td>0.2750</td>\n",
       "      <td>0.00381</td>\n",
       "      <td>0.000</td>\n",
       "      <td>0.3910</td>\n",
       "      <td>0.780</td>\n",
       "      <td>160.517</td>\n",
       "      <td>144244</td>\n",
       "      <td>4</td>\n",
       "      <td>24.99199</td>\n",
       "      <td>8</td>\n",
       "      <td>1</td>\n",
       "    </tr>\n",
       "  </tbody>\n",
       "</table>\n",
       "</div>"
      ],
      "text/plain": [
       "                                 track                          artist  \\\n",
       "0                          Wild Things                    Alessia Cara   \n",
       "1                            Surfboard                       Esquivel!   \n",
       "2                         Love Someone                    Lukas Graham   \n",
       "3  Music To My Ears (feat. Tory Lanez)                   Keys N Krates   \n",
       "4        Juju On That Beat (TZ Anthem)  Zay Hilfigerrr & Zayion McCall   \n",
       "\n",
       "   danceability  energy  key  loudness  mode  speechiness  acousticness  \\\n",
       "0         0.741   0.626    1    -4.826     0       0.0886       0.02000   \n",
       "1         0.447   0.247    5   -14.661     0       0.0346       0.87100   \n",
       "2         0.550   0.415    9    -6.557     0       0.0520       0.16100   \n",
       "3         0.502   0.648    0    -5.698     0       0.0527       0.00513   \n",
       "4         0.807   0.887    1    -3.892     1       0.2750       0.00381   \n",
       "\n",
       "   instrumentalness  liveness  valence    tempo  duration_ms  time_signature  \\\n",
       "0             0.000    0.0828    0.706  108.029       188493               4   \n",
       "1             0.814    0.0946    0.250  155.489       176880               3   \n",
       "2             0.000    0.1080    0.274  172.065       205463               4   \n",
       "3             0.000    0.2040    0.291   91.837       193043               4   \n",
       "4             0.000    0.3910    0.780  160.517       144244               4   \n",
       "\n",
       "   chorus_hit  sections  target  \n",
       "0    41.18681        10       1  \n",
       "1    33.18083         9       0  \n",
       "2    44.89147         9       1  \n",
       "3    29.52521         7       0  \n",
       "4    24.99199         8       1  "
      ]
     },
     "execution_count": 2,
     "metadata": {},
     "output_type": "execute_result"
    }
   ],
   "source": [
    "#Load data file\n",
    "file = \"data/dataset-of-10s.csv\"\n",
    "spotify_billboards_df = pd.read_csv(file)\n",
    "spotify_billboards_df = spotify_billboards_df.drop(columns=[\"uri\"])\n",
    "spotify_billboards_df.head()"
   ]
  },
  {
   "cell_type": "code",
   "execution_count": 3,
   "metadata": {},
   "outputs": [],
   "source": [
    "#Cleaning Data\n",
    "\n",
    "#Convert duration to seconds\n",
    "spotify_billboards_df[\"duration_ms\"] = round((spotify_billboards_df[\"duration_ms\"] / 1000), 0)\n",
    "spotify_billboards_df_new = spotify_billboards_df.rename(columns={'duration_ms': 'duration_seconds'})\n",
    "\n",
    "chorus_hit_p = round((100 * spotify_billboards_df_new[\"chorus_hit\"] / spotify_billboards_df_new[\"duration_seconds\"]), 1)\n",
    "hit_flop = spotify_billboards_df_new[\"target\"]\n",
    "\n"
   ]
  },
  {
   "cell_type": "markdown",
   "metadata": {},
   "source": [
    "# Chorus Hit"
   ]
  },
  {
   "cell_type": "code",
   "execution_count": 4,
   "metadata": {},
   "outputs": [
    {
     "data": {
      "text/plain": [
       "0       21.9\n",
       "1       18.7\n",
       "2       21.9\n",
       "3       15.3\n",
       "4       17.4\n",
       "        ... \n",
       "6393    16.1\n",
       "6394    21.4\n",
       "6395     9.1\n",
       "6396    10.2\n",
       "6397    20.8\n",
       "Length: 6398, dtype: float64"
      ]
     },
     "execution_count": 4,
     "metadata": {},
     "output_type": "execute_result"
    }
   ],
   "source": [
    "chorus_hit_p"
   ]
  },
  {
   "cell_type": "code",
   "execution_count": 5,
   "metadata": {},
   "outputs": [],
   "source": [
    "#chorus hit percentage into song\n",
    "chorus_hit_p_df = pd.DataFrame({\n",
    "    \"Chorus Percent Into Song\":chorus_hit_p,\n",
    "    \"Hit or Flop\":spotify_billboards_df_new[\"target\"]\n",
    "})\n"
   ]
  },
  {
   "cell_type": "code",
   "execution_count": 6,
   "metadata": {},
   "outputs": [
    {
     "data": {
      "text/plain": [
       "Hit or Flop  Chorus Hit Into Song\n",
       "Flop         <5%                      30\n",
       "             5%-9%                   399\n",
       "             10%-%14                 822\n",
       "             15%-19%                 728\n",
       "             20%-29%                 699\n",
       "             30% +                   514\n",
       "Hit          <5%                       1\n",
       "             5%-9%                   194\n",
       "             10%-%14                 921\n",
       "             15%-19%                 886\n",
       "             20%-29%                 858\n",
       "             30% +                   339\n",
       "Name: Chorus Percent Into Song, dtype: int64"
      ]
     },
     "execution_count": 6,
     "metadata": {},
     "output_type": "execute_result"
    }
   ],
   "source": [
    "#binning chorus hit percent\n",
    "bins = [0, 4, 9, 14, 19, 29, 104]\n",
    "bin_ranges = [\"<5%\",\"5%-9%\",\"10%-%14\",\"15%-19%\",\"20%-29%\",\"30% +\"]\n",
    "chorus_hit_p_df[\"Chorus Hit Into Song\"] = pd.cut(chorus_hit_p_df[\"Chorus Percent Into Song\"], bins, labels=bin_ranges)\n",
    "chorus_hit_p_df = chorus_hit_p_df.groupby(['Hit or Flop', 'Chorus Hit Into Song']).count()[\"Chorus Percent Into Song\"]\n",
    "\n",
    "chorus_hit_p_df.rename(index={0:'Flop', 1:'Hit'}, inplace=True)\n",
    "chorus_hit_p_df"
   ]
  },
  {
   "cell_type": "code",
   "execution_count": 7,
   "metadata": {},
   "outputs": [],
   "source": [
    "#cleaning chorus hit percent\n",
    "chorus_hit_p_df = pd.DataFrame(chorus_hit_p_df)\n",
    "chorus_hit_p_df[\"Chorus Percent Into Song\"] = chorus_hit_p_df[\"Chorus Percent Into Song\"].fillna(0)\n",
    "chorus_hit_p_df = chorus_hit_p_df.rename(columns={\"Chorus Percent Into Song\": \"Count Percentage\"})\n",
    "total_counts = chorus_hit_p_df.groupby(['Hit or Flop']).sum()[\"Count Percentage\"]\n",
    "\n",
    "chorus_hit_p_df[\"Count Percentage\"] = round((100 * chorus_hit_p_df[\"Count Percentage\"] / total_counts),1)"
   ]
  },
  {
   "cell_type": "code",
   "execution_count": 8,
   "metadata": {},
   "outputs": [],
   "source": [
    "#Cleaning chorus_hit_p_df\n",
    "\n",
    "#filtering flops and hits\n",
    "flops = chorus_hit_p_df.loc[\"Flop\"]\n",
    "hits = chorus_hit_p_df.loc[\"Hit\"]\n",
    "\n",
    "#exctracting labels\n",
    "labels =  list(chorus_hit_p_df.loc[\"Flop\"].index)\n",
    "\n",
    "#extracting flop/hit values \n",
    "flops_values = [data[0] for data in flops.values]\n",
    "hit_values = [ data[0] for data in hits.values ]"
   ]
  },
  {
   "cell_type": "code",
   "execution_count": 9,
   "metadata": {},
   "outputs": [
    {
     "data": {
      "image/png": "[encoded data removed]",
      "text/plain": [
       "<Figure size 720x720 with 1 Axes>"
      ]
     },
     "metadata": {
      "needs_background": "light"
     },
     "output_type": "display_data"
    }
   ],
   "source": [
    "#new DF with columns for flops and hits\n",
    "df = pd.DataFrame({'Hits': hit_values, 'Flops': flops_values}, index=labels)\n",
    "\n",
    "#bar chart comparing flop and hit chorus starting point\n",
    "ax = df.plot(kind='bar', color=['black', 'green'], figsize=(10,10), fontsize=12)\n",
    "ax.yaxis.set_major_formatter(mtick.PercentFormatter())\n",
    "\n",
    "#Labels\n",
    "title = \"Hit vs. Flop Chorus Introduction Point\"\n",
    "plt.title(title)\n",
    "plt.ylabel(\"Percentage of Songs\")\n",
    "plt.xlabel(\"Percentage Point at Which Chorus is Introduced\")\n",
    "#df.plot.bar(kind=\"bar\", figsize=(20,10))\n",
    "\n",
    "#Save & Show\n",
    "plt.savefig(\"output/\" + title + \".png\")\n",
    "plt.show()"
   ]
  },
  {
   "cell_type": "code",
   "execution_count": 45,
   "metadata": {},
   "outputs": [
    {
     "data": {
      "image/png": "[encoded data removed]",
      "text/plain": [
       "<Figure size 720x432 with 1 Axes>"
      ]
     },
     "metadata": {
      "needs_background": "light"
     },
     "output_type": "display_data"
    }
   ],
   "source": [
    "# average chorus hit per target\n",
    "average_hit_df = spotify_billboards_df.groupby([\"target\"]).mean()[\"chorus_hit\"]\n",
    "average_hit_df = pd.DataFrame(average_hit_df.round(0))\n",
    "average_hit_df.rename(index={0:'Flop', 1:'Hit'}, inplace=True)\n",
    "average_hit_df = average_hit_df.rename(index={'0': \"Flop\"})\n",
    "\n",
    "\n",
    "#Exctracting average values\n",
    "chorus_hit_mean = average_hit_df.loc[\"Hit\"]\n",
    "chorus_hit_mean = chorus_hit_mean[\"chorus_hit\"]\n",
    "chorus_flop_mean = average_hit_df.loc[\"Flop\"]\n",
    "chorus_flop_mean = chorus_flop_mean[\"chorus_hit\"]\n",
    "\n",
    "#Bar Chart\n",
    "average_hit_df.plot(kind=\"bar\", color=[\"green\"], figsize=(10, 6))\n",
    "\n",
    "#Annotate\n",
    "plt.annotate(chorus_flop_mean,(-.08,41),fontsize=12,color=\"black\")\n",
    "plt.annotate(chorus_hit_mean,(.95,37),fontsize=12,color=\"black\")\n",
    "\n",
    "#labels\n",
    "title = \"Average Chorus Hit\"\n",
    "plt.title(title)\n",
    "plt.ylabel(\"Time (Seconds) of Chorus Hit \")\n",
    "plt.xlabel(\"Flop Vs. Hit\")\n",
    "\n",
    "#save & show\n",
    "plt.savefig(\"output/\" + title + \".png\")\n",
    "plt.show()\n"
   ]
  },
  {
   "cell_type": "markdown",
   "metadata": {},
   "source": []
  },
  {
   "cell_type": "markdown",
   "metadata": {},
   "source": [
    "# Danceability "
   ]
  },
  {
   "cell_type": "code",
   "execution_count": null,
   "metadata": {
    "scrolled": true
   },
   "outputs": [],
   "source": [
    "spotify_billboards_df_new"
   ]
  },
  {
   "cell_type": "code",
   "execution_count": null,
   "metadata": {},
   "outputs": [],
   "source": [
    "#extract columns\n",
    "danceability = spotify_billboards_df_new[\"danceability\"]\n",
    "target = spotify_billboards_df_new[\"target\"]\n",
    "tempo = spotify_billboards_df_new[\"tempo\"]\n",
    "energy = spotify_billboards_df_new[\"energy\"]\n",
    "live = spotify_billboards_df_new[\"liveness\"]\n",
    "sections = spotify_billboards_df_new[\"sections\"]\n",
    "\n",
    "#danceability & tempo DF\n",
    "dance_tempo_df = pd.DataFrame({\"Outcome\": target, \"Tempo\": tempo, \"Danceability\": danceability, \"Energy\": energy, \"Live\": live, \"Sections\": sections})\n",
    "dance_tempo_df = dance_tempo_df.set_index(\"Outcome\")\n",
    "dance_tempo_df.rename(index={0:'Flop', 1:'Hit'}, inplace=True)\n",
    "dance_tempo_df\n",
    "\n",
    "\n"
   ]
  },
  {
   "cell_type": "code",
   "execution_count": null,
   "metadata": {},
   "outputs": [],
   "source": [
    "#Hit Danceability\n",
    "hit_danceability = dance_tempo_df.loc[\"Hit\"]\n",
    "hit_danceability = hit_danceability[\"Danceability\"].values\n",
    "hit_danceability_average = round(hit_danceability.mean(), 2)\n",
    "\n",
    "#flop_danceability\n",
    "flop_danceability = dance_tempo_df.loc[\"Flop\"]\n",
    "flop_danceability = flop_danceability[\"Danceability\"].values\n",
    "flop_danceability_average = round(flop_danceability.mean(), 2)\n",
    "\n",
    "#average results\n",
    "hit_results = (\"Hit Average = \" + str(hit_danceability_average))\n",
    "flop_results = (\"Flop Average = \" + str(flop_danceability_average))\n",
    "\n",
    "#Hit Danceability Box plot\n",
    "plt.boxplot([hit_danceability, flop_danceability], labels = [\"Hits\", \"Flops\"])\n",
    "title = \"Danceability\"\n",
    "plt.annotate(hit_results,(1.2,.7),fontsize=10,color=\"black\")\n",
    "plt.annotate(flop_results,(1.2,.5),fontsize=10,color=\"black\")\n",
    "plt.title(title)\n",
    "plt.ylabel(\"Danceability Rating\")\n",
    "plt.savefig(\"output/\" + title + \".png\")\n",
    "plt.show()"
   ]
  },
  {
   "cell_type": "code",
   "execution_count": null,
   "metadata": {},
   "outputs": [],
   "source": [
    "dance_tempo_df"
   ]
  },
  {
   "cell_type": "code",
   "execution_count": null,
   "metadata": {},
   "outputs": [],
   "source": [
    "#scatter plot tempo compared to dancibility\n",
    "\n",
    "#Extract columns\n",
    "tempo = dance_tempo_df[\"Tempo\"]\n",
    "tempo = round(tempo, 0)\n",
    "\n",
    "danceability = dance_tempo_df[\"Danceability\"]\n",
    "danceability = round(danceability, 2)\n",
    "\n",
    "#Plot\n",
    "plt.scatter(tempo, danceability, edgecolor=\"black\", marker=\".\", alpha=0.8, label=\"Cities\")\n",
    "\n",
    "#Labels\n",
    "title = \"Tempo vs Danceability\"\n",
    "plt.title(title)\n",
    "plt.xlabel(\"Tempo (BPM)\")\n",
    "plt.ylabel(\"Danceability\")\n",
    "\n",
    "#Save & Show\n",
    "plt.savefig(\"output/\" + title + \".png\")\n",
    "plt.show()"
   ]
  },
  {
   "cell_type": "code",
   "execution_count": null,
   "metadata": {},
   "outputs": [],
   "source": [
    "#Scatter plot energy vs Danceabiltiy\n",
    "\n",
    "#exctract energy\n",
    "energy = dance_tempo_df[\"Energy\"]\n",
    "energy = round(energy, 2)\n",
    "\n",
    "#plot\n",
    "plt.scatter(energy, danceability, edgecolor=\"black\", marker=\".\", alpha=0.8, label=\"Cities\")\n",
    "\n",
    "#labels\n",
    "title = \"Energy vs Danceability\"\n",
    "plt.title(title)\n",
    "plt.xlabel(\"Energy\")\n",
    "plt.ylabel(\"Danceability\")\n",
    "\n",
    "#save & show\n",
    "plt.savefig(\"output/\" + title + \".png\")\n",
    "plt.show()"
   ]
  },
  {
   "cell_type": "code",
   "execution_count": null,
   "metadata": {},
   "outputs": [],
   "source": [
    "#Scatter plot liveness vs Danceabiltiy\n",
    "\n",
    "#exctract liveness\n",
    "live = dance_tempo_df[\"Live\"]\n",
    "live = round(live, 2)\n",
    "\n",
    "#plot\n",
    "plt.scatter(live, danceability, edgecolor=\"black\", marker=\".\", alpha=0.8, label=\"Cities\")\n",
    "\n",
    "#Labels\n",
    "title = \"Liveness vs Danceability\"\n",
    "plt.title(title)\n",
    "plt.xlabel(\"Liveness\")\n",
    "plt.ylabel(\"Danceability\")\n",
    "\n",
    "#save & show\n",
    "plt.savefig(\"output/\" + title + \".png\")\n",
    "plt.show()"
   ]
  },
  {
   "cell_type": "code",
   "execution_count": null,
   "metadata": {},
   "outputs": [],
   "source": [
    "#Scatter plot sections vs Danceabiltiy\n",
    "\n",
    "#exctract energy\n",
    "sections = dance_tempo_df[\"Sections\"]\n",
    "\n",
    "#plot\n",
    "plt.scatter(sections, danceability, edgecolor=\"black\", marker=\".\", alpha=0.8, label=\"Cities\")\n",
    "\n",
    "#Labels\n",
    "title = \"Sections vs Danceability\"\n",
    "plt.title(title)\n",
    "plt.xlabel(\"Sections\")\n",
    "plt.ylabel(\"Danceability\")\n",
    "\n",
    "#Save & Show\n",
    "plt.savefig(\"output/\" + title + \".png\")\n",
    "plt.show()"
   ]
  },
  {
   "cell_type": "markdown",
   "metadata": {},
   "source": [
    "# Human Element"
   ]
  },
  {
   "cell_type": "code",
   "execution_count": null,
   "metadata": {},
   "outputs": [],
   "source": [
    "#spotify_billboards_df_new\n",
    "acoustic = spotify_billboards_df_new[\"acousticness\"]\n",
    "live = spotify_billboards_df_new[\"liveness\"]\n",
    "target = spotify_billboards_df_new[\"target\"]\n",
    "human_element_df = pd.DataFrame({\n",
    "    \"acousticness\": acoustic,\n",
    "    \"liveness\": live,\n",
    "    \"target\": target\n",
    "})\n",
    "human_element_df = human_element_df.set_index(\"target\")\n",
    "human_element_df.rename(index={0:'Flop', 1:'Hit'}, inplace=True)\n",
    "\n",
    "human_element_df"
   ]
  },
  {
   "cell_type": "code",
   "execution_count": null,
   "metadata": {},
   "outputs": [],
   "source": [
    "#Acoustic and live hit totals\n",
    "\n",
    "#Acoustic hits rating of .80 or higher\n",
    "acoustic_hits = human_element_df.loc[\"Hit\"]\n",
    "total_hits = len(acoustic_hits.index)\n",
    "\n",
    "#Average acoustic rating\n",
    "average_acoustic_rating = round(acoustic_hits[\"acousticness\"].mean(), 2)\n",
    "\n",
    "#Total acoustic tracks \n",
    "acoustic_hits = acoustic_hits[\"acousticness\"].loc[acoustic_hits[\"acousticness\"] >= .80]\n",
    "total_acoustic_hits = len(acoustic_hits.index)\n",
    "\n",
    "#percentage acoustic hits\n",
    "percent_acoustic_hits = 100 * round((total_acoustic_hits / total_hits), 3)\n",
    "\n",
    "#Live Hits rating of .80 or higher\n",
    "live_hits = human_element_df.loc[\"Hit\"]\n",
    "\n",
    "#Average live rating\n",
    "average_live_rating = round(live_hits[\"liveness\"].mean(), 3)\n",
    "\n",
    "#Total Live tracks\n",
    "live_hits = live_hits[\"liveness\"].loc[live_hits[\"liveness\"] >= .80]\n",
    "total_live_hits = len(live_hits.index)\n",
    "\n",
    "#percentage_live_hits\n",
    "percent_live_hits = 100 * round((total_live_hits / total_hits), 3)\n",
    "\n",
    "#Hits that are both live and acoustic \n",
    "#acoustic_live_hits = human_element_df.loc[\"Hit\"]\n",
    "#acoustic_live_hits = acoustic_live_hits[\"liveness\"].loc[(acoustic_live_hits[\"liveness\"] >= .80) & (acoustic_live_hits[\"acousticness\"] >= .80)]\n",
    "#acoustic_live_hits.head()\n",
    "\n",
    "print(\"Total Hits = \" + str(total_hits))\n",
    "print(\"Total acoustic hits = \" + str(total_acoustic_hits))\n",
    "print(\"Total live Hits = \" + str(total_live_hits))\n",
    "print(\"Average Acoustic Rating = \" + str(average_acoustic_rating))\n",
    "print(\"Average live Rating = \" + str(average_live_rating))"
   ]
  },
  {
   "cell_type": "code",
   "execution_count": null,
   "metadata": {},
   "outputs": [],
   "source": [
    "#Acoustic and live flop totals\n",
    "\n",
    "#Acoustic hits rating of .80 or higher\n",
    "acoustic_flops = human_element_df.loc[\"Flop\"]\n",
    "total_flops = len(acoustic_flops.index)\n",
    "\n",
    "#Average acoustic rating\n",
    "average_acoustic_rating = round(acoustic_flops[\"acousticness\"].mean(), 2)\n",
    "\n",
    "#Total acoustic tracks \n",
    "acoustic_flops = acoustic_flops[\"acousticness\"].loc[acoustic_flops[\"acousticness\"] >= .80]\n",
    "total_acoustic_flops = len(acoustic_flops.index)\n",
    "\n",
    "#percent acoustic flops\n",
    "percent_acoustic_flops = round(100 * (total_acoustic_flops / total_flops), 3)\n",
    "\n",
    "#Live flops rating of .80 or higher\n",
    "live_flops = human_element_df.loc[\"Flop\"]\n",
    "\n",
    "#Average live rating\n",
    "average_live_rating_flop = round(live_flops[\"liveness\"].mean(), 3)\n",
    "\n",
    "#Total Live tracks\n",
    "live_flops = live_flops[\"liveness\"].loc[live_flops[\"liveness\"] >= .80]\n",
    "total_live_flops = len(live_flops.index)\n",
    "\n",
    "#Percentage live flops\n",
    "percent_live_flops = 100 * round((total_live_flops / total_flops), 3)\n",
    "\n",
    "print(\"Total flops = \" + str(total_flops))\n",
    "print(\"Total acoustic flops = \" + str(total_acoustic_flops))\n",
    "print(\"Total live flops = \" + str(total_live_flops))\n",
    "print(\"Average Acoustic Rating = \" + str(average_acoustic_rating))\n",
    "print(\"Average live Rating = \" + str(average_live_rating_flop))\n",
    "print(\"Percent live flops = \" + str(percent_live_flops))\n",
    "print(\"Percent acoustic flops = \" + str(percent_acoustic_flops))"
   ]
  },
  {
   "cell_type": "code",
   "execution_count": null,
   "metadata": {},
   "outputs": [],
   "source": [
    "#Dataframe for total\n",
    "index = [\"Live\", \"Acoustic\"]\n",
    "total_hits = [total_live_hits, total_acoustic_hits]\n",
    "total_flops = [total_live_flops, total_acoustic_flops]\n",
    "\n",
    "total_live_acoustic_df = pd.DataFrame({\"Hits\": total_hits, \"Flops\": total_flops}, index=index)\n",
    "\n",
    "#dataframe for Percentages \n",
    "percent_hits = [percent_live_hits, percent_acoustic_hits]\n",
    "percent_flops = [percent_live_flops, percent_acoustic_flops]\n",
    "\n",
    "percent_live_acoustic_df = pd.DataFrame({\"Hits\": percent_hits, \"Flops\": percent_flops}, index=index)\n",
    "#total_live_acoustic_df\n",
    "#percent_live_acoustic_df"
   ]
  },
  {
   "cell_type": "code",
   "execution_count": null,
   "metadata": {},
   "outputs": [],
   "source": [
    "#Reults for annotation\n",
    "\n",
    "#Totals\n",
    "live_hits = (\"Total live hits = \" + str(total_live_hits))\n",
    "live_flops = (\"Total live flops = \" + str(total_live_flops))\n",
    "acoustic_hits = (\"Total acoustic hits = \" + str(total_acoustic_hits))\n",
    "acoustic_flops = (\"Total acoustic hits = \" + str(total_acoustic_flops))\n",
    "\n",
    "#percentages\n",
    "p_live_hits = (\"Live hits = \" + str(percent_live_hits) + \"%\")\n",
    "p_live_flops = (\"Live flops = \" + str(percent_live_flops) + \"%\")\n",
    "p_acoustic_hits = (\"Acoustic hits = \" + str(percent_acoustic_hits) + \"%\")\n",
    "p_acoustic_flops = (\"Acoustic hits = \" + str(percent_acoustic_flops) + \"%\")"
   ]
  },
  {
   "cell_type": "code",
   "execution_count": null,
   "metadata": {},
   "outputs": [],
   "source": [
    "#Bar chart comparing totals\n",
    "total_live_acoustic_df.plot(kind=\"bar\", color=[\"black\", \"green\"], figsize=(10,6))\n",
    "\n",
    "#labels\n",
    "title = \"Live and Acoustic Hit vs Flop Totals\"\n",
    "plt.annotate(live_hits,(-.25,450),fontsize=12,color=\"black\")\n",
    "plt.annotate(live_flops,(-.25,400),fontsize=12,color=\"green\")\n",
    "plt.annotate(acoustic_hits,(.4,450),fontsize=12,color=\"black\")\n",
    "plt.annotate(acoustic_flops,(.4,400),fontsize=12,color=\"green\")\n",
    "plt.title(title)\n",
    "plt.ylabel(\"Total Songs\")\n",
    "plt.savefig(\"output/\" + title + \".png\")"
   ]
  },
  {
   "cell_type": "code",
   "execution_count": null,
   "metadata": {},
   "outputs": [],
   "source": [
    "#bar chart comparing percentages\n",
    "percent_live_acoustic_df.plot(kind=\"bar\", color=[\"black\", \"green\"], figsize=(10,6))\n",
    "\n",
    "\n",
    "#labels\n",
    "title = \"Live and Acoustic Hit vs Flop Percentages\"\n",
    "plt.title(title)\n",
    "plt.ylabel(\"Percentage of Songs\")\n",
    "\n",
    "#Annotation\n",
    "plt.annotate(p_live_hits,(-.35,12),fontsize=12,color=\"black\")\n",
    "plt.annotate(p_live_flops,(-.35,10),fontsize=12,color=\"green\")\n",
    "plt.annotate(p_acoustic_hits,(.4,12),fontsize=12,color=\"black\")\n",
    "plt.annotate(p_acoustic_flops,(.4,10),fontsize=12,color=\"green\")\n",
    "\n",
    "#Show & Save\n",
    "plt.savefig(\"output/\" + title + \".png\")\n",
    "plt.show()"
   ]
  },
  {
   "cell_type": "code",
   "execution_count": null,
   "metadata": {},
   "outputs": [],
   "source": []
  }
 ],
 "metadata": {
  "kernelspec": {
   "display_name": "Python 3",
   "language": "python",
   "name": "python3"
  },
  "language_info": {
   "codemirror_mode": {
    "name": "ipython",
    "version": 3
   },
   "file_extension": ".py",
   "mimetype": "text/x-python",
   "name": "python",
   "nbconvert_exporter": "python",
   "pygments_lexer": "ipython3",
   "version": "3.7.6"
  }
 },
 "nbformat": 4,
 "nbformat_minor": 4
}
